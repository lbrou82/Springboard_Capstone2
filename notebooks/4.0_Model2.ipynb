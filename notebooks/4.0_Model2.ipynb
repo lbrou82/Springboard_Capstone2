{
 "cells": [
  {
   "cell_type": "markdown",
   "metadata": {},
   "source": [
    "<h2><center> Image Classification of Birds using the iNaturalist Dataset</center></h2>\n",
    "<h3><center>Springboard | Capstone 2: In-Depth Analysis/Modeling: Model 2 </center></h3>\n",
    "<h4><center>By: Lauren Broussard</center></h4>"
   ]
  },
  {
   "cell_type": "markdown",
   "metadata": {},
   "source": [
    "----"
   ]
  },
  {
   "cell_type": "code",
   "execution_count": 1,
   "metadata": {},
   "outputs": [],
   "source": [
    "from keras.models import Sequential,load_model #used to build model \n",
    "from keras.layers import Activation, Dense, Dropout, Flatten #Dense used to add layers to model\n",
    "from keras.layers import Conv2D, MaxPooling2D\n",
    "from sklearn.metrics import classification_report, confusion_matrix\n",
    "from keras.optimizers import SGD #this is for optimization on learning rate"
   ]
  },
  {
   "cell_type": "markdown",
   "metadata": {},
   "source": [
    "Let's run another model using Convolutional Neural Networks (CNN)."
   ]
  },
  {
   "cell_type": "markdown",
   "metadata": {},
   "source": [
    "Again, we'll run some of our setup operations from our PreProcessing Notebook. In it, we'll do a number of set up steps like create our train, test, and validation sets, set up the number of epochs to run, and augment the orientation of our training and validation images. \n",
    "\n",
    "We'll also decide how many images to use of our total dataset. "
   ]
  },
  {
   "cell_type": "code",
   "execution_count": 2,
   "metadata": {},
   "outputs": [
    {
     "name": "stdout",
     "output_type": "stream",
     "text": [
      "Pre-Processing & Set Up\n",
      "Total Images To Use: 15000\n",
      "\n",
      "Number of Training Images:  8400\n",
      "Number of Validation Images:  3000\n",
      "Number of Test Images:  3600 \n",
      "\n",
      "img_dir =  ../data/raw/\n",
      "img_width, img_height =  128 128\n",
      "batch_size =  128\n",
      "no_epochs =  50\n",
      "no_classes =  2\n",
      "patience =  10 \n",
      "\n",
      "\n",
      "Augment Images - Training\n",
      "Found 8400 validated image filenames belonging to 2 classes.\n",
      "CPU times: user 113 ms, sys: 300 ms, total: 412 ms\n",
      "Wall time: 1.31 s\n",
      "\n",
      "Augment Images - Validation and Testing\n",
      "Found 3000 validated image filenames belonging to 2 classes.\n",
      "CPU times: user 31.1 ms, sys: 52 ms, total: 83.1 ms\n",
      "Wall time: 293 ms\n"
     ]
    }
   ],
   "source": [
    "print(\"Pre-Processing & Set Up\")\n",
    "%run ./2.0_PreProcessing_SetUp.ipynb"
   ]
  },
  {
   "cell_type": "markdown",
   "metadata": {},
   "source": [
    "----"
   ]
  },
  {
   "cell_type": "markdown",
   "metadata": {},
   "source": [
    "### MODEL 2."
   ]
  },
  {
   "cell_type": "markdown",
   "metadata": {},
   "source": [
    "#### Add Layers"
   ]
  },
  {
   "cell_type": "code",
   "execution_count": 3,
   "metadata": {},
   "outputs": [],
   "source": [
    "model2 = Sequential()\n",
    "\n",
    "model2.add(Conv2D(32, (3, 3), input_shape=(img_width,img_height,3))) #convolution layer\n",
    "model2.add(Activation('relu'))\n",
    "model2.add(MaxPooling2D(pool_size=(2, 2))) #\n",
    "\n",
    "model2.add(Conv2D(32, (3, 3))) #receives input from previous conv layer\n",
    "model2.add(Activation('relu'))\n",
    "model2.add(MaxPooling2D(pool_size=(2, 2)))\n",
    "\n",
    "model2.add(Conv2D(32, (3, 3)))\n",
    "model2.add(Activation('relu'))\n",
    "model2.add(MaxPooling2D(pool_size=(2, 2)))\n",
    "\n",
    "model2.add(Conv2D(64, (3, 3)))\n",
    "model2.add(Activation('relu'))\n",
    "model2.add(MaxPooling2D(pool_size=(2, 2)))\n",
    "\n",
    "model2.add(Flatten())\n",
    "model2.add(Dense(100))\n",
    "model2.add(Activation('relu'))\n",
    "model2.add(Dropout(0.6)) # what proportion to drop out\n",
    "model2.add(Dense(1))\n",
    "model2.add(Activation('sigmoid'))"
   ]
  },
  {
   "cell_type": "markdown",
   "metadata": {},
   "source": [
    "#### Compile"
   ]
  },
  {
   "cell_type": "code",
   "execution_count": 4,
   "metadata": {},
   "outputs": [
    {
     "name": "stdout",
     "output_type": "stream",
     "text": [
      "CPU times: user 6.84 ms, sys: 966 µs, total: 7.8 ms\n",
      "Wall time: 7.06 ms\n"
     ]
    }
   ],
   "source": [
    "%%time\n",
    "# compile, and add metrics==['accuracy'] to keep track of diagnostics for each epoch\n",
    "model2.compile(optimizer = 'adam', loss='binary_crossentropy', metrics=['accuracy'])"
   ]
  },
  {
   "cell_type": "markdown",
   "metadata": {},
   "source": [
    "#### Fit"
   ]
  },
  {
   "cell_type": "code",
   "execution_count": 5,
   "metadata": {},
   "outputs": [
    {
     "name": "stdout",
     "output_type": "stream",
     "text": [
      "Epoch 1/50\n",
      "65/65 - 149s - loss: 0.5875 - accuracy: 0.6983 - val_loss: 0.5621 - val_accuracy: 0.7018\n",
      "Epoch 2/50\n",
      "65/65 - 128s - loss: 0.5174 - accuracy: 0.7449 - val_loss: 0.7125 - val_accuracy: 0.6613\n",
      "Epoch 3/50\n",
      "65/65 - 130s - loss: 0.4906 - accuracy: 0.7690 - val_loss: 0.4957 - val_accuracy: 0.7541\n",
      "Epoch 4/50\n",
      "65/65 - 129s - loss: 0.4590 - accuracy: 0.7882 - val_loss: 0.5863 - val_accuracy: 0.6729\n",
      "Epoch 5/50\n",
      "65/65 - 129s - loss: 0.4504 - accuracy: 0.7944 - val_loss: 0.6082 - val_accuracy: 0.7069\n",
      "Epoch 6/50\n",
      "65/65 - 130s - loss: 0.4402 - accuracy: 0.7979 - val_loss: 0.4415 - val_accuracy: 0.7965\n",
      "Epoch 7/50\n",
      "65/65 - 130s - loss: 0.4202 - accuracy: 0.8057 - val_loss: 0.4492 - val_accuracy: 0.7840\n",
      "Epoch 8/50\n",
      "65/65 - 132s - loss: 0.4135 - accuracy: 0.8146 - val_loss: 0.4409 - val_accuracy: 0.7952\n",
      "Epoch 9/50\n",
      "65/65 - 133s - loss: 0.4050 - accuracy: 0.8169 - val_loss: 0.4035 - val_accuracy: 0.8210\n",
      "Epoch 10/50\n",
      "65/65 - 133s - loss: 0.4026 - accuracy: 0.8189 - val_loss: 0.4096 - val_accuracy: 0.8156\n",
      "Epoch 11/50\n",
      "65/65 - 133s - loss: 0.3876 - accuracy: 0.8260 - val_loss: 0.3828 - val_accuracy: 0.8264\n",
      "Epoch 12/50\n",
      "65/65 - 134s - loss: 0.3892 - accuracy: 0.8286 - val_loss: 0.4303 - val_accuracy: 0.7942\n",
      "Epoch 13/50\n",
      "65/65 - 133s - loss: 0.3795 - accuracy: 0.8312 - val_loss: 0.3995 - val_accuracy: 0.8132\n",
      "Epoch 14/50\n",
      "65/65 - 134s - loss: 0.3800 - accuracy: 0.8305 - val_loss: 0.3782 - val_accuracy: 0.8346\n",
      "Epoch 15/50\n",
      "65/65 - 134s - loss: 0.3682 - accuracy: 0.8297 - val_loss: 0.3810 - val_accuracy: 0.8312\n",
      "Epoch 16/50\n",
      "65/65 - 134s - loss: 0.3666 - accuracy: 0.8399 - val_loss: 0.3968 - val_accuracy: 0.8183\n",
      "Epoch 17/50\n",
      "65/65 - 134s - loss: 0.3700 - accuracy: 0.8317 - val_loss: 0.4442 - val_accuracy: 0.8077\n",
      "Epoch 18/50\n",
      "65/65 - 134s - loss: 0.3669 - accuracy: 0.8403 - val_loss: 0.4206 - val_accuracy: 0.7955\n",
      "Epoch 19/50\n",
      "65/65 - 137s - loss: 0.3594 - accuracy: 0.8421 - val_loss: 0.3715 - val_accuracy: 0.8414\n",
      "Epoch 20/50\n",
      "65/65 - 137s - loss: 0.3534 - accuracy: 0.8471 - val_loss: 0.4777 - val_accuracy: 0.8135\n",
      "Epoch 21/50\n",
      "65/65 - 138s - loss: 0.3512 - accuracy: 0.8416 - val_loss: 0.3666 - val_accuracy: 0.8465\n",
      "Epoch 22/50\n",
      "65/65 - 138s - loss: 0.3515 - accuracy: 0.8447 - val_loss: 0.3545 - val_accuracy: 0.8492\n",
      "Epoch 23/50\n",
      "65/65 - 138s - loss: 0.3472 - accuracy: 0.8459 - val_loss: 0.3667 - val_accuracy: 0.8410\n",
      "Epoch 24/50\n",
      "65/65 - 139s - loss: 0.3462 - accuracy: 0.8488 - val_loss: 0.3851 - val_accuracy: 0.8288\n",
      "Epoch 25/50\n",
      "65/65 - 140s - loss: 0.3378 - accuracy: 0.8519 - val_loss: 0.3291 - val_accuracy: 0.8597\n",
      "Epoch 26/50\n",
      "65/65 - 139s - loss: 0.3357 - accuracy: 0.8506 - val_loss: 0.3412 - val_accuracy: 0.8577\n",
      "Epoch 27/50\n",
      "65/65 - 139s - loss: 0.3302 - accuracy: 0.8570 - val_loss: 0.3583 - val_accuracy: 0.8563\n",
      "Epoch 28/50\n",
      "65/65 - 139s - loss: 0.3250 - accuracy: 0.8615 - val_loss: 0.3407 - val_accuracy: 0.8618\n",
      "Epoch 29/50\n",
      "65/65 - 139s - loss: 0.3262 - accuracy: 0.8601 - val_loss: 0.4561 - val_accuracy: 0.8043\n",
      "Epoch 30/50\n",
      "65/65 - 140s - loss: 0.3298 - accuracy: 0.8565 - val_loss: 0.3734 - val_accuracy: 0.8505\n",
      "Epoch 31/50\n",
      "65/65 - 140s - loss: 0.3175 - accuracy: 0.8656 - val_loss: 0.4138 - val_accuracy: 0.8315\n",
      "Epoch 32/50\n",
      "65/65 - 141s - loss: 0.3239 - accuracy: 0.8625 - val_loss: 0.3956 - val_accuracy: 0.8400\n",
      "Epoch 33/50\n",
      "65/65 - 139s - loss: 0.3122 - accuracy: 0.8677 - val_loss: 0.4234 - val_accuracy: 0.8295\n",
      "Epoch 34/50\n",
      "65/65 - 140s - loss: 0.3255 - accuracy: 0.8583 - val_loss: 0.3221 - val_accuracy: 0.8631\n",
      "Epoch 35/50\n",
      "65/65 - 140s - loss: 0.3218 - accuracy: 0.8605 - val_loss: 0.3610 - val_accuracy: 0.8475\n",
      "Epoch 36/50\n",
      "65/65 - 140s - loss: 0.3196 - accuracy: 0.8605 - val_loss: 0.3252 - val_accuracy: 0.8679\n",
      "Epoch 37/50\n",
      "65/65 - 141s - loss: 0.3067 - accuracy: 0.8677 - val_loss: 0.3514 - val_accuracy: 0.8590\n",
      "Epoch 38/50\n",
      "65/65 - 141s - loss: 0.3071 - accuracy: 0.8667 - val_loss: 0.3435 - val_accuracy: 0.8533\n",
      "Epoch 39/50\n",
      "65/65 - 140s - loss: 0.3034 - accuracy: 0.8714 - val_loss: 0.3418 - val_accuracy: 0.8584\n",
      "Epoch 40/50\n",
      "65/65 - 140s - loss: 0.2912 - accuracy: 0.8779 - val_loss: 0.4081 - val_accuracy: 0.8336\n",
      "Epoch 41/50\n",
      "65/65 - 140s - loss: 0.3046 - accuracy: 0.8662 - val_loss: 0.3296 - val_accuracy: 0.8645\n",
      "Epoch 42/50\n",
      "65/65 - 140s - loss: 0.2971 - accuracy: 0.8694 - val_loss: 0.3321 - val_accuracy: 0.8672\n",
      "Epoch 43/50\n",
      "65/65 - 140s - loss: 0.3099 - accuracy: 0.8690 - val_loss: 0.3298 - val_accuracy: 0.8716\n",
      "Epoch 44/50\n",
      "65/65 - 141s - loss: 0.2946 - accuracy: 0.8749 - val_loss: 0.3286 - val_accuracy: 0.8719\n",
      "CPU times: user 3h 54min 33s, sys: 57min 3s, total: 4h 51min 36s\n",
      "Wall time: 1h 41min 47s\n"
     ]
    }
   ],
   "source": [
    "%%time\n",
    "model2_history = model2.fit(\n",
    "    train_generator,\n",
    "    steps_per_epoch= len(df_train) // batch_size,\n",
    "    epochs=no_epochs,\n",
    "    validation_data=valid_generator,\n",
    "    validation_steps= len(df_val) // batch_size,\n",
    "    callbacks = [early_stopping_monitor],\n",
    "    verbose=2)"
   ]
  },
  {
   "cell_type": "markdown",
   "metadata": {},
   "source": [
    "#### Training & Validation Summary"
   ]
  },
  {
   "cell_type": "code",
   "execution_count": 6,
   "metadata": {},
   "outputs": [
    {
     "name": "stdout",
     "output_type": "stream",
     "text": [
      "Model: \"sequential\"\n",
      "_________________________________________________________________\n",
      "Layer (type)                 Output Shape              Param #   \n",
      "=================================================================\n",
      "conv2d (Conv2D)              (None, 126, 126, 32)      896       \n",
      "_________________________________________________________________\n",
      "activation (Activation)      (None, 126, 126, 32)      0         \n",
      "_________________________________________________________________\n",
      "max_pooling2d (MaxPooling2D) (None, 63, 63, 32)        0         \n",
      "_________________________________________________________________\n",
      "conv2d_1 (Conv2D)            (None, 61, 61, 32)        9248      \n",
      "_________________________________________________________________\n",
      "activation_1 (Activation)    (None, 61, 61, 32)        0         \n",
      "_________________________________________________________________\n",
      "max_pooling2d_1 (MaxPooling2 (None, 30, 30, 32)        0         \n",
      "_________________________________________________________________\n",
      "conv2d_2 (Conv2D)            (None, 28, 28, 32)        9248      \n",
      "_________________________________________________________________\n",
      "activation_2 (Activation)    (None, 28, 28, 32)        0         \n",
      "_________________________________________________________________\n",
      "max_pooling2d_2 (MaxPooling2 (None, 14, 14, 32)        0         \n",
      "_________________________________________________________________\n",
      "conv2d_3 (Conv2D)            (None, 12, 12, 64)        18496     \n",
      "_________________________________________________________________\n",
      "activation_3 (Activation)    (None, 12, 12, 64)        0         \n",
      "_________________________________________________________________\n",
      "max_pooling2d_3 (MaxPooling2 (None, 6, 6, 64)          0         \n",
      "_________________________________________________________________\n",
      "flatten (Flatten)            (None, 2304)              0         \n",
      "_________________________________________________________________\n",
      "dense (Dense)                (None, 100)               230500    \n",
      "_________________________________________________________________\n",
      "activation_4 (Activation)    (None, 100)               0         \n",
      "_________________________________________________________________\n",
      "dropout (Dropout)            (None, 100)               0         \n",
      "_________________________________________________________________\n",
      "dense_1 (Dense)              (None, 1)                 101       \n",
      "_________________________________________________________________\n",
      "activation_5 (Activation)    (None, 1)                 0         \n",
      "=================================================================\n",
      "Total params: 268,489\n",
      "Trainable params: 268,489\n",
      "Non-trainable params: 0\n",
      "_________________________________________________________________\n"
     ]
    }
   ],
   "source": [
    "# show summary \n",
    "model2.summary()"
   ]
  },
  {
   "cell_type": "code",
   "execution_count": 7,
   "metadata": {},
   "outputs": [
    {
     "data": {
      "image/png": "[encoded data removed]",
      "text/plain": [
       "<Figure size 720x720 with 2 Axes>"
      ]
     },
     "metadata": {
      "needs_background": "light"
     },
     "output_type": "display_data"
    }
   ],
   "source": [
    "# plot \n",
    "plot_accuracy_and_loss(model2_history) #from preprocessing and setup notebook"
   ]
  },
  {
   "cell_type": "code",
   "execution_count": 8,
   "metadata": {},
   "outputs": [],
   "source": [
    "# save weights"
   ]
  },
  {
   "cell_type": "code",
   "execution_count": 9,
   "metadata": {},
   "outputs": [],
   "source": [
    "# save model\n",
    "file_name = 'model2.h5'\n",
    "model2.save('../models/{}'.format(file_name))"
   ]
  },
  {
   "cell_type": "markdown",
   "metadata": {},
   "source": [
    "#### Predict"
   ]
  },
  {
   "cell_type": "code",
   "execution_count": 10,
   "metadata": {},
   "outputs": [
    {
     "name": "stdout",
     "output_type": "stream",
     "text": [
      "Found 3600 validated image filenames belonging to 2 classes.\n"
     ]
    }
   ],
   "source": [
    "test_datagen = ImageDataGenerator(rescale=1./255)\n",
    "\n",
    "test_generator=test_datagen.flow_from_dataframe(\n",
    "                    dataframe=df_test,\n",
    "                    directory=img_dir,\n",
    "                    x_col=\"file_name\",\n",
    "                    y_col=\"is_bird\",\n",
    "                    batch_size=1,\n",
    "                    shuffle=False,\n",
    "                    class_mode=\"binary\",    \n",
    "                    target_size=(img_height,img_width))"
   ]
  },
  {
   "cell_type": "code",
   "execution_count": null,
   "metadata": {},
   "outputs": [],
   "source": []
  },
  {
   "cell_type": "markdown",
   "metadata": {},
   "source": [
    "### RESULTS & VISUALIZATIONS"
   ]
  },
  {
   "cell_type": "code",
   "execution_count": 11,
   "metadata": {},
   "outputs": [
    {
     "name": "stdout",
     "output_type": "stream",
     "text": [
      "WARNING:tensorflow:From <timed exec>:5: Sequential.predict_classes (from tensorflow.python.keras.engine.sequential) is deprecated and will be removed after 2021-01-01.\n",
      "Instructions for updating:\n",
      "Please use instead:* `np.argmax(model.predict(x), axis=-1)`,   if your model does multi-class classification   (e.g. if it uses a `softmax` last-layer activation).* `(model.predict(x) > 0.5).astype(\"int32\")`,   if your model does binary classification   (e.g. if it uses a `sigmoid` last-layer activation).\n",
      "Confusion Matrix\n",
      "[[1647  183]\n",
      " [ 299 1471]]\n",
      "Classification Report\n",
      "              precision    recall  f1-score   support\n",
      "\n",
      "    Not Bird       0.85      0.90      0.87      1830\n",
      "        Bird       0.89      0.83      0.86      1770\n",
      "\n",
      "    accuracy                           0.87      3600\n",
      "   macro avg       0.87      0.87      0.87      3600\n",
      "weighted avg       0.87      0.87      0.87      3600\n",
      "\n",
      "CPU times: user 55.3 s, sys: 3.42 s, total: 58.8 s\n",
      "Wall time: 33.3 s\n"
     ]
    }
   ],
   "source": [
    "%%time\n",
    "test_generator.reset()\n",
    "\n",
    "# make predictions on model2\n",
    "\n",
    "y_pred = (model2.predict(test_generator) > 0.5).astype('int32')\n",
    "\n",
    "print('Confusion Matrix')\n",
    "print(confusion_matrix(test_generator.classes, y_pred))\n",
    "print('Classification Report')\n",
    "target_names = ['Not Bird', 'Bird']\n",
    "print(classification_report(test_generator.classes, y_pred, target_names=target_names))"
   ]
  },
  {
   "cell_type": "code",
   "execution_count": 12,
   "metadata": {},
   "outputs": [
    {
     "data": {
      "image/png": "[encoded data removed]",
      "text/plain": [
       "<Figure size 432x288 with 1 Axes>"
      ]
     },
     "metadata": {
      "needs_background": "light"
     },
     "output_type": "display_data"
    }
   ],
   "source": [
    "from sklearn.metrics import roc_curve\n",
    "from sklearn.metrics import auc\n",
    "\n",
    "_ = plt.plot([0, 1], [0, 1], 'k--')\n",
    "fpr_keras, tpr_keras, thresholds_keras = roc_curve(test_generator.classes, y_pred)\n",
    "auc_keras = auc(fpr_keras, tpr_keras)\n",
    "\n",
    "_ = plt.plot(fpr_keras, tpr_keras, label='Keras (area = {:.3f})'.format(auc_keras))\n",
    "plt.xlabel('False positive rate')\n",
    "plt.ylabel('True positive rate')\n",
    "plt.title('ROC curve')\n",
    "plt.legend(loc='best')\n",
    "plt.show()"
   ]
  },
  {
   "cell_type": "markdown",
   "metadata": {},
   "source": [
    "----"
   ]
  },
  {
   "cell_type": "code",
   "execution_count": 13,
   "metadata": {},
   "outputs": [
    {
     "name": "stdout",
     "output_type": "stream",
     "text": [
      "Lab 2.0 2020-09-27 11:17:19 \n",
      "\n",
      "CPython 3.7.6\n",
      "IPython 7.12.0\n",
      "\n",
      "numpy 1.18.1\n",
      "pandas 1.0.1\n",
      "tensorflow 2.3.0\n",
      "keras 2.4.3\n"
     ]
    }
   ],
   "source": [
    "%load_ext watermark\n",
    "%watermark -a \"Lab 2.0\" -d -t -v -p numpy,pandas,tensorflow,keras"
   ]
  },
  {
   "cell_type": "code",
   "execution_count": null,
   "metadata": {},
   "outputs": [],
   "source": []
  }
 ],
 "metadata": {
  "kernelspec": {
   "display_name": "Python 3",
   "language": "python",
   "name": "python3"
  },
  "language_info": {
   "codemirror_mode": {
    "name": "ipython",
    "version": 3
   },
   "file_extension": ".py",
   "mimetype": "text/x-python",
   "name": "python",
   "nbconvert_exporter": "python",
   "pygments_lexer": "ipython3",
   "version": "3.7.6"
  }
 },
 "nbformat": 4,
 "nbformat_minor": 4
}
