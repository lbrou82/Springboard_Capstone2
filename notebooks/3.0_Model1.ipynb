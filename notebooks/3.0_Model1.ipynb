{
 "cells": [
  {
   "cell_type": "markdown",
   "metadata": {},
   "source": [
    "<h2><center> Image Classification of Birds using the iNaturalist Dataset</center></h2>\n",
    "<h3><center>Springboard | Capstone 2: In-Depth Analysis/Modeling: Model 1 </center></h3>\n",
    "<h4><center>By: Lauren Broussard</center></h4>"
   ]
  },
  {
   "cell_type": "code",
   "execution_count": null,
   "metadata": {},
   "outputs": [],
   "source": []
  },
  {
   "cell_type": "markdown",
   "metadata": {},
   "source": [
    "### MODEL 1."
   ]
  },
  {
   "cell_type": "markdown",
   "metadata": {},
   "source": [
    "For our first model, we'll create a simple neural network to see how it does. We'll add five hidden layers, and a flatten layer. Our first layer will include 32 nodes, and we'll use ReLU activation for each of our hidden layers."
   ]
  },
  {
   "cell_type": "markdown",
   "metadata": {},
   "source": [
    "First, we'll run some of our setup operations from our PreProcessing Notebook. In it, we do a number of set up steps like create our train, test, and validation sets, set up the number of epochs to run, and augment the orientation of our training and validation images. "
   ]
  },
  {
   "cell_type": "code",
   "execution_count": 28,
   "metadata": {},
   "outputs": [
    {
     "name": "stdout",
     "output_type": "stream",
     "text": [
      "Pre-Processing & Set Up\n",
      "Total Images To Use: 5000\n",
      "\n",
      "Number of Training Images:  2800\n",
      "Number of Validation Images:  1000\n",
      "Number of Test Images:  1200 \n",
      "\n",
      "Enter Total Epochs: 25\n",
      "img_dir =  ../data/raw/\n",
      "img_width, img_height =  128 128\n",
      "batch_size =  128\n",
      "no_epochs =  25\n",
      "no_classes =  2\n",
      "patience =  7 \n",
      "\n",
      "\n",
      "Augment Images - Training\n",
      "Found 2800 validated image filenames belonging to 2 classes.\n",
      "CPU times: user 33.8 ms, sys: 12 ms, total: 45.9 ms\n",
      "Wall time: 46 ms\n",
      "\n",
      "Augment Images - Validation and Testing\n",
      "Found 1000 validated image filenames belonging to 2 classes.\n",
      "CPU times: user 13.2 ms, sys: 3.85 ms, total: 17 ms\n",
      "Wall time: 17.4 ms\n"
     ]
    }
   ],
   "source": [
    "print(\"Pre-Processing & Set Up\")\n",
    "%run ./2.0_PreProcessing_SetUp.ipynb"
   ]
  },
  {
   "cell_type": "markdown",
   "metadata": {},
   "source": [
    "#### Set Architecture"
   ]
  },
  {
   "cell_type": "code",
   "execution_count": 2,
   "metadata": {},
   "outputs": [],
   "source": [
    "model1 = Sequential()\n",
    "\n",
    "model1.add(Dense(32,activation = 'relu', input_shape = (img_width,img_height,3)))\n",
    "model1.add(Dense(32, activation = 'relu'))\n",
    "model1.add(Dense(32, activation = 'relu'))\n",
    "\n",
    "model1.add(Flatten())\n",
    "model1.add(Dense(32, activation = 'relu'))\n",
    "model1.add(Dense(100, activation = 'relu'))\n",
    "model1.add(Dense(1, activation = 'sigmoid'))"
   ]
  },
  {
   "cell_type": "markdown",
   "metadata": {},
   "source": [
    "#### Compile"
   ]
  },
  {
   "cell_type": "code",
   "execution_count": 3,
   "metadata": {},
   "outputs": [
    {
     "name": "stdout",
     "output_type": "stream",
     "text": [
      "CPU times: user 8.06 ms, sys: 1.31 ms, total: 9.37 ms\n",
      "Wall time: 8.53 ms\n"
     ]
    }
   ],
   "source": [
    "%%time\n",
    "# compile, and add metrics==['accuracy'] to keep track of diagnostics for each epoch\n",
    "model1.compile(optimizer = 'adam', loss='binary_crossentropy', metrics=['accuracy'])"
   ]
  },
  {
   "cell_type": "markdown",
   "metadata": {},
   "source": [
    "#### Fit"
   ]
  },
  {
   "cell_type": "code",
   "execution_count": 4,
   "metadata": {},
   "outputs": [
    {
     "name": "stdout",
     "output_type": "stream",
     "text": [
      "Epoch 1/25\n",
      "21/21 - 75s - loss: 1.8734 - accuracy: 0.5659 - val_loss: 0.6808 - val_accuracy: 0.6339\n",
      "Epoch 2/25\n",
      "21/21 - 53s - loss: 0.6057 - accuracy: 0.6781 - val_loss: 0.5740 - val_accuracy: 0.6853\n",
      "Epoch 3/25\n",
      "21/21 - 56s - loss: 0.5807 - accuracy: 0.6976 - val_loss: 0.5482 - val_accuracy: 0.7132\n",
      "Epoch 4/25\n",
      "21/21 - 53s - loss: 0.5594 - accuracy: 0.7133 - val_loss: 0.5651 - val_accuracy: 0.7121\n",
      "Epoch 5/25\n",
      "21/21 - 56s - loss: 0.5490 - accuracy: 0.7152 - val_loss: 0.5291 - val_accuracy: 0.7299\n",
      "Epoch 6/25\n",
      "21/21 - 55s - loss: 0.5348 - accuracy: 0.7332 - val_loss: 0.5114 - val_accuracy: 0.7321\n",
      "Epoch 7/25\n",
      "21/21 - 56s - loss: 0.5254 - accuracy: 0.7309 - val_loss: 0.5120 - val_accuracy: 0.7455\n",
      "Epoch 8/25\n",
      "21/21 - 57s - loss: 0.5094 - accuracy: 0.7515 - val_loss: 0.4954 - val_accuracy: 0.7746\n",
      "Epoch 9/25\n",
      "21/21 - 56s - loss: 0.5047 - accuracy: 0.7549 - val_loss: 0.4798 - val_accuracy: 0.7734\n",
      "Epoch 10/25\n",
      "21/21 - 55s - loss: 0.4957 - accuracy: 0.7609 - val_loss: 0.4962 - val_accuracy: 0.7522\n",
      "Epoch 11/25\n",
      "21/21 - 56s - loss: 0.4953 - accuracy: 0.7642 - val_loss: 0.4773 - val_accuracy: 0.7556\n",
      "Epoch 12/25\n",
      "21/21 - 55s - loss: 0.4855 - accuracy: 0.7665 - val_loss: 0.4862 - val_accuracy: 0.7723\n",
      "Epoch 13/25\n",
      "21/21 - 53s - loss: 0.4869 - accuracy: 0.7676 - val_loss: 0.4713 - val_accuracy: 0.7656\n",
      "Epoch 14/25\n",
      "21/21 - 60s - loss: 0.4796 - accuracy: 0.7702 - val_loss: 0.4542 - val_accuracy: 0.7879\n",
      "Epoch 15/25\n",
      "21/21 - 58s - loss: 0.4737 - accuracy: 0.7695 - val_loss: 0.4530 - val_accuracy: 0.7879\n",
      "Epoch 16/25\n",
      "21/21 - 56s - loss: 0.4704 - accuracy: 0.7807 - val_loss: 0.4593 - val_accuracy: 0.8036\n",
      "Epoch 17/25\n",
      "21/21 - 57s - loss: 0.4757 - accuracy: 0.7612 - val_loss: 0.4481 - val_accuracy: 0.7824\n",
      "Epoch 18/25\n",
      "21/21 - 52s - loss: 0.4598 - accuracy: 0.7781 - val_loss: 0.4588 - val_accuracy: 0.7935\n",
      "Epoch 19/25\n",
      "21/21 - 51s - loss: 0.4551 - accuracy: 0.7852 - val_loss: 0.4431 - val_accuracy: 0.7969\n",
      "Epoch 20/25\n",
      "21/21 - 54s - loss: 0.4454 - accuracy: 0.7927 - val_loss: 0.4498 - val_accuracy: 0.7913\n",
      "Epoch 21/25\n",
      "21/21 - 49s - loss: 0.4526 - accuracy: 0.7769 - val_loss: 0.4396 - val_accuracy: 0.7924\n",
      "Epoch 22/25\n",
      "21/21 - 54s - loss: 0.4491 - accuracy: 0.7859 - val_loss: 0.4586 - val_accuracy: 0.7779\n",
      "Epoch 23/25\n",
      "21/21 - 52s - loss: 0.4453 - accuracy: 0.7957 - val_loss: 0.4423 - val_accuracy: 0.7935\n",
      "Epoch 24/25\n",
      "21/21 - 49s - loss: 0.4367 - accuracy: 0.7975 - val_loss: 0.4819 - val_accuracy: 0.7690\n",
      "Epoch 25/25\n",
      "21/21 - 51s - loss: 0.4394 - accuracy: 0.7979 - val_loss: 0.4539 - val_accuracy: 0.7980\n",
      "CPU times: user 56min 13s, sys: 18min 42s, total: 1h 14min 56s\n",
      "Wall time: 24min 7s\n"
     ]
    }
   ],
   "source": [
    "%%time\n",
    "model1_history = model1.fit(\n",
    "    train_generator,\n",
    "    steps_per_epoch= len(df_train) // batch_size,\n",
    "    epochs=no_epochs,\n",
    "    validation_data=valid_generator,\n",
    "    validation_steps= len(df_val) // batch_size,\n",
    "    callbacks = [early_stopping_monitor],\n",
    "    verbose=2)"
   ]
  },
  {
   "cell_type": "markdown",
   "metadata": {},
   "source": [
    "#### View Model Summaries"
   ]
  },
  {
   "cell_type": "code",
   "execution_count": 5,
   "metadata": {},
   "outputs": [
    {
     "name": "stdout",
     "output_type": "stream",
     "text": [
      "Model: \"sequential\"\n",
      "_________________________________________________________________\n",
      "Layer (type)                 Output Shape              Param #   \n",
      "=================================================================\n",
      "dense (Dense)                (None, 128, 128, 32)      128       \n",
      "_________________________________________________________________\n",
      "dense_1 (Dense)              (None, 128, 128, 32)      1056      \n",
      "_________________________________________________________________\n",
      "dense_2 (Dense)              (None, 128, 128, 32)      1056      \n",
      "_________________________________________________________________\n",
      "flatten (Flatten)            (None, 524288)            0         \n",
      "_________________________________________________________________\n",
      "dense_3 (Dense)              (None, 32)                16777248  \n",
      "_________________________________________________________________\n",
      "dense_4 (Dense)              (None, 100)               3300      \n",
      "_________________________________________________________________\n",
      "dense_5 (Dense)              (None, 1)                 101       \n",
      "=================================================================\n",
      "Total params: 16,782,889\n",
      "Trainable params: 16,782,889\n",
      "Non-trainable params: 0\n",
      "_________________________________________________________________\n"
     ]
    }
   ],
   "source": [
    "# view model summary\n",
    "model1.summary()"
   ]
  },
  {
   "cell_type": "code",
   "execution_count": 6,
   "metadata": {},
   "outputs": [
    {
     "data": {
      "image/png": "[encoded data removed]",
      "text/plain": [
       "<Figure size 720x720 with 2 Axes>"
      ]
     },
     "metadata": {
      "needs_background": "light"
     },
     "output_type": "display_data"
    }
   ],
   "source": [
    "plot_accuracy_and_loss(model1_history) #called from 2.0_PreProcessing Notebook"
   ]
  },
  {
   "cell_type": "markdown",
   "metadata": {},
   "source": [
    "#### Save Model"
   ]
  },
  {
   "cell_type": "code",
   "execution_count": 7,
   "metadata": {},
   "outputs": [],
   "source": [
    "# save model\n",
    "file_name = 'model1.h5'\n",
    "model1.save('../models/{}'.format(file_name))"
   ]
  },
  {
   "cell_type": "code",
   "execution_count": null,
   "metadata": {},
   "outputs": [],
   "source": []
  },
  {
   "cell_type": "markdown",
   "metadata": {},
   "source": [
    "----"
   ]
  },
  {
   "cell_type": "markdown",
   "metadata": {},
   "source": [
    "#### Predict"
   ]
  },
  {
   "cell_type": "code",
   "execution_count": 34,
   "metadata": {},
   "outputs": [
    {
     "name": "stdout",
     "output_type": "stream",
     "text": [
      "Found 1200 validated image filenames belonging to 2 classes.\n"
     ]
    }
   ],
   "source": [
    "test_datagen = ImageDataGenerator(rescale=1./255)\n",
    "\n",
    "test_generator=test_datagen.flow_from_dataframe(\n",
    "                    dataframe=df_test,\n",
    "                    directory=img_dir,\n",
    "                    x_col=\"file_name\",\n",
    "                    y_col=\"is_bird\",\n",
    "                    batch_size=batch_size,\n",
    "                    class_mode=\"binary\",    \n",
    "                    target_size=(img_height,img_width))"
   ]
  },
  {
   "cell_type": "code",
   "execution_count": null,
   "metadata": {},
   "outputs": [],
   "source": []
  },
  {
   "cell_type": "markdown",
   "metadata": {},
   "source": [
    "### RESULTS & VISUALIZATIONS"
   ]
  },
  {
   "cell_type": "code",
   "execution_count": 35,
   "metadata": {},
   "outputs": [
    {
     "name": "stdout",
     "output_type": "stream",
     "text": [
      "Confusion Matrix\n",
      "[[320 265]\n",
      " [332 283]]\n",
      "Classification Report\n",
      "              precision    recall  f1-score   support\n",
      "\n",
      "    Not Bird       0.49      0.55      0.52       585\n",
      "        Bird       0.52      0.46      0.49       615\n",
      "\n",
      "    accuracy                           0.50      1200\n",
      "   macro avg       0.50      0.50      0.50      1200\n",
      "weighted avg       0.50      0.50      0.50      1200\n",
      "\n",
      "CPU times: user 24.1 s, sys: 9.29 s, total: 33.4 s\n",
      "Wall time: 12.5 s\n"
     ]
    }
   ],
   "source": [
    "%%time\n",
    "\n",
    "# make predictions on model1\n",
    "y_pred = model1.predict_classes(test_generator)\n",
    "\n",
    "\n",
    "print('Confusion Matrix')\n",
    "print(confusion_matrix(test_generator.classes, y_pred))\n",
    "print('Classification Report')\n",
    "target_names = ['Not Bird', 'Bird']\n",
    "print(classification_report(test_generator.classes, y_pred, target_names=target_names))"
   ]
  },
  {
   "cell_type": "code",
   "execution_count": 36,
   "metadata": {},
   "outputs": [
    {
     "data": {
      "image/png": "[encoded data removed]",
      "text/plain": [
       "<Figure size 432x288 with 1 Axes>"
      ]
     },
     "metadata": {
      "needs_background": "light"
     },
     "output_type": "display_data"
    }
   ],
   "source": [
    "plot_auc_roc(test_generator.classes,y_pred) #called from 2.0_PreProcessing Notebook"
   ]
  },
  {
   "cell_type": "markdown",
   "metadata": {},
   "source": [
    "----"
   ]
  },
  {
   "cell_type": "markdown",
   "metadata": {},
   "source": [
    "This model performs about as well as chance. "
   ]
  },
  {
   "cell_type": "code",
   "execution_count": null,
   "metadata": {},
   "outputs": [],
   "source": [
    "%load_ext watermark\n",
    "%watermark -a \"Lab 2.0\" -d -t -v -p numpy,pandas,tensorflow,keras"
   ]
  },
  {
   "cell_type": "code",
   "execution_count": null,
   "metadata": {},
   "outputs": [],
   "source": []
  }
 ],
 "metadata": {
  "kernelspec": {
   "display_name": "Python 3",
   "language": "python",
   "name": "python3"
  },
  "language_info": {
   "codemirror_mode": {
    "name": "ipython",
    "version": 3
   },
   "file_extension": ".py",
   "mimetype": "text/x-python",
   "name": "python",
   "nbconvert_exporter": "python",
   "pygments_lexer": "ipython3",
   "version": "3.7.6"
  }
 },
 "nbformat": 4,
 "nbformat_minor": 4
}
