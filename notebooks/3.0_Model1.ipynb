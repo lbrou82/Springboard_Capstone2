{
 "cells": [
  {
   "cell_type": "markdown",
   "metadata": {},
   "source": [
    "<h2><center> Image Classification of Birds using the iNaturalist Dataset</center></h2>\n",
    "<h3><center>Springboard | Capstone 2: In-Depth Analysis/Modeling: Model 1 </center></h3>\n",
    "<h4><center>By: Lauren Broussard</center></h4>"
   ]
  },
  {
   "cell_type": "code",
   "execution_count": null,
   "metadata": {},
   "outputs": [],
   "source": []
  },
  {
   "cell_type": "markdown",
   "metadata": {},
   "source": [
    "### MODEL 1."
   ]
  },
  {
   "cell_type": "markdown",
   "metadata": {},
   "source": [
    "For our first model, we'll create a simple neural network to see how it does. We'll add five hidden layers, and a flatten layer. Our first layer will include 32 nodes, and we'll use ReLU activation for each of our hidden layers."
   ]
  },
  {
   "cell_type": "markdown",
   "metadata": {},
   "source": [
    "First, we'll run some of our setup operations from our PreProcessing Notebook. In it, we do a number of set up steps like create our train, test, and validation sets, set up the number of epochs to run, and augment the orientation of our training and validation images. "
   ]
  },
  {
   "cell_type": "code",
   "execution_count": 41,
   "metadata": {},
   "outputs": [
    {
     "name": "stdout",
     "output_type": "stream",
     "text": [
      "Pre-Processing & Set Up\n",
      "Total Images To Use: 2500\n",
      "\n",
      "Number of Training Images:  1400\n",
      "Number of Validation Images:  500\n",
      "Number of Test Images:  600 \n",
      "\n",
      "img_dir =  ../data/raw/\n",
      "img_width, img_height =  128 128\n",
      "batch_size =  128\n",
      "no_epochs =  25\n",
      "no_classes =  2 \n",
      "\n",
      "\n",
      "Augment Images - Training\n",
      "Found 1400 validated image filenames belonging to 2 classes.\n",
      "CPU times: user 16.6 ms, sys: 5.51 ms, total: 22.1 ms\n",
      "Wall time: 22.6 ms\n",
      "\n",
      "Augment Images - Validation and Testing\n",
      "Found 500 validated image filenames belonging to 2 classes.\n",
      "CPU times: user 7.79 ms, sys: 1.97 ms, total: 9.75 ms\n",
      "Wall time: 9.76 ms\n"
     ]
    }
   ],
   "source": [
    "print(\"Pre-Processing & Set Up\")\n",
    "%run ./2.0_PreProcessing_SetUp.ipynb"
   ]
  },
  {
   "cell_type": "markdown",
   "metadata": {},
   "source": [
    "#### Set Architecture"
   ]
  },
  {
   "cell_type": "code",
   "execution_count": 2,
   "metadata": {},
   "outputs": [],
   "source": [
    "model1 = Sequential()\n",
    "\n",
    "model1.add(Dense(32,activation = 'relu', input_shape = (img_width,img_height,3)))\n",
    "model1.add(Dense(32, activation = 'relu'))\n",
    "model1.add(Dense(32, activation = 'relu'))\n",
    "\n",
    "model1.add(Flatten())\n",
    "model1.add(Dense(32, activation = 'relu'))\n",
    "model1.add(Dense(100, activation = 'relu'))\n",
    "model1.add(Dense(1, activation = 'sigmoid'))"
   ]
  },
  {
   "cell_type": "markdown",
   "metadata": {},
   "source": [
    "#### Compile"
   ]
  },
  {
   "cell_type": "code",
   "execution_count": 3,
   "metadata": {},
   "outputs": [
    {
     "name": "stdout",
     "output_type": "stream",
     "text": [
      "CPU times: user 6.62 ms, sys: 506 µs, total: 7.13 ms\n",
      "Wall time: 6.7 ms\n"
     ]
    }
   ],
   "source": [
    "%%time\n",
    "# compile, and add metrics==['accuracy'] to keep track of diagnostics for each epoch\n",
    "model1.compile(optimizer = 'adam', loss='binary_crossentropy', metrics=['accuracy'])"
   ]
  },
  {
   "cell_type": "markdown",
   "metadata": {},
   "source": [
    "#### Fit"
   ]
  },
  {
   "cell_type": "code",
   "execution_count": 4,
   "metadata": {},
   "outputs": [
    {
     "name": "stdout",
     "output_type": "stream",
     "text": [
      "Epoch 1/25\n",
      "10/10 - 23s - loss: 5.5398 - accuracy: 0.5307 - val_loss: 1.6903 - val_accuracy: 0.5339\n",
      "Epoch 2/25\n",
      "10/10 - 21s - loss: 1.1027 - accuracy: 0.5865 - val_loss: 0.6177 - val_accuracy: 0.7083\n",
      "Epoch 3/25\n",
      "10/10 - 22s - loss: 0.6110 - accuracy: 0.6871 - val_loss: 0.5601 - val_accuracy: 0.7188\n",
      "Epoch 4/25\n",
      "10/10 - 21s - loss: 0.5740 - accuracy: 0.6918 - val_loss: 0.6010 - val_accuracy: 0.6901\n",
      "Epoch 5/25\n",
      "10/10 - 22s - loss: 0.5682 - accuracy: 0.7044 - val_loss: 0.5716 - val_accuracy: 0.7188\n",
      "Epoch 6/25\n",
      "10/10 - 22s - loss: 0.5455 - accuracy: 0.7131 - val_loss: 0.5475 - val_accuracy: 0.7240\n",
      "Epoch 7/25\n",
      "10/10 - 23s - loss: 0.5302 - accuracy: 0.7225 - val_loss: 0.5447 - val_accuracy: 0.7266\n",
      "Epoch 8/25\n",
      "10/10 - 23s - loss: 0.5265 - accuracy: 0.7335 - val_loss: 0.5589 - val_accuracy: 0.7214\n",
      "Epoch 9/25\n",
      "10/10 - 23s - loss: 0.5311 - accuracy: 0.7327 - val_loss: 0.5799 - val_accuracy: 0.7031\n",
      "Epoch 10/25\n",
      "10/10 - 23s - loss: 0.4976 - accuracy: 0.7539 - val_loss: 0.5328 - val_accuracy: 0.7552\n",
      "Epoch 11/25\n",
      "10/10 - 23s - loss: 0.4975 - accuracy: 0.7555 - val_loss: 0.5093 - val_accuracy: 0.7552\n",
      "Epoch 12/25\n",
      "10/10 - 23s - loss: 0.4986 - accuracy: 0.7508 - val_loss: 0.5000 - val_accuracy: 0.7812\n",
      "Epoch 13/25\n",
      "10/10 - 23s - loss: 0.4953 - accuracy: 0.7571 - val_loss: 0.4992 - val_accuracy: 0.7526\n",
      "Epoch 14/25\n",
      "10/10 - 23s - loss: 0.4856 - accuracy: 0.7594 - val_loss: 0.5488 - val_accuracy: 0.7552\n",
      "Epoch 15/25\n",
      "10/10 - 23s - loss: 0.4721 - accuracy: 0.7712 - val_loss: 0.4760 - val_accuracy: 0.7786\n",
      "Epoch 16/25\n",
      "10/10 - 24s - loss: 0.4710 - accuracy: 0.7767 - val_loss: 0.4807 - val_accuracy: 0.7786\n",
      "Epoch 17/25\n",
      "10/10 - 23s - loss: 0.4551 - accuracy: 0.7744 - val_loss: 0.5195 - val_accuracy: 0.7448\n",
      "Epoch 18/25\n",
      "10/10 - 23s - loss: 0.4721 - accuracy: 0.7759 - val_loss: 0.5024 - val_accuracy: 0.7552\n",
      "Epoch 19/25\n",
      "10/10 - 23s - loss: 0.4785 - accuracy: 0.7720 - val_loss: 0.5203 - val_accuracy: 0.7682\n",
      "Epoch 20/25\n",
      "10/10 - 24s - loss: 0.4770 - accuracy: 0.7594 - val_loss: 0.5185 - val_accuracy: 0.7474\n",
      "CPU times: user 20min 44s, sys: 6min 35s, total: 27min 19s\n",
      "Wall time: 8min 24s\n"
     ]
    }
   ],
   "source": [
    "%%time\n",
    "model1_history = model1.fit(\n",
    "    train_generator,\n",
    "    steps_per_epoch= len(df_train) // batch_size,\n",
    "    epochs=no_epochs,\n",
    "    validation_data=valid_generator,\n",
    "    validation_steps= len(df_val) // batch_size,\n",
    "    callbacks = [early_stopping_monitor],\n",
    "    verbose=2)"
   ]
  },
  {
   "cell_type": "markdown",
   "metadata": {},
   "source": [
    "#### View Model Summaries"
   ]
  },
  {
   "cell_type": "code",
   "execution_count": 5,
   "metadata": {},
   "outputs": [
    {
     "name": "stdout",
     "output_type": "stream",
     "text": [
      "Model: \"sequential\"\n",
      "_________________________________________________________________\n",
      "Layer (type)                 Output Shape              Param #   \n",
      "=================================================================\n",
      "dense (Dense)                (None, 128, 128, 32)      128       \n",
      "_________________________________________________________________\n",
      "dense_1 (Dense)              (None, 128, 128, 32)      1056      \n",
      "_________________________________________________________________\n",
      "dense_2 (Dense)              (None, 128, 128, 32)      1056      \n",
      "_________________________________________________________________\n",
      "flatten (Flatten)            (None, 524288)            0         \n",
      "_________________________________________________________________\n",
      "dense_3 (Dense)              (None, 32)                16777248  \n",
      "_________________________________________________________________\n",
      "dense_4 (Dense)              (None, 100)               3300      \n",
      "_________________________________________________________________\n",
      "dense_5 (Dense)              (None, 1)                 101       \n",
      "=================================================================\n",
      "Total params: 16,782,889\n",
      "Trainable params: 16,782,889\n",
      "Non-trainable params: 0\n",
      "_________________________________________________________________\n"
     ]
    }
   ],
   "source": [
    "# view model summary\n",
    "model1.summary()"
   ]
  },
  {
   "cell_type": "code",
   "execution_count": 40,
   "metadata": {},
   "outputs": [
    {
     "data": {
      "image/png": "[encoded data removed]",
      "text/plain": [
       "<Figure size 720x720 with 2 Axes>"
      ]
     },
     "metadata": {
      "needs_background": "light"
     },
     "output_type": "display_data"
    }
   ],
   "source": [
    "plot_accuracy_and_loss(model1_history) #called from 2.0_PreProcessing Notebook"
   ]
  },
  {
   "cell_type": "markdown",
   "metadata": {},
   "source": [
    "#### Save Model"
   ]
  },
  {
   "cell_type": "code",
   "execution_count": 7,
   "metadata": {},
   "outputs": [],
   "source": [
    "# save model\n",
    "file_name = 'model1.h5'\n",
    "model1.save('../models/{}'.format(file_name))"
   ]
  },
  {
   "cell_type": "code",
   "execution_count": null,
   "metadata": {},
   "outputs": [],
   "source": []
  },
  {
   "cell_type": "markdown",
   "metadata": {},
   "source": [
    "----"
   ]
  },
  {
   "cell_type": "markdown",
   "metadata": {},
   "source": [
    "#### Predict"
   ]
  },
  {
   "cell_type": "code",
   "execution_count": 8,
   "metadata": {},
   "outputs": [
    {
     "name": "stdout",
     "output_type": "stream",
     "text": [
      "Found 600 validated image filenames belonging to 2 classes.\n"
     ]
    }
   ],
   "source": [
    "test_datagen = ImageDataGenerator(rescale=1./255)\n",
    "\n",
    "test_generator=test_datagen.flow_from_dataframe(\n",
    "                    dataframe=df_test,\n",
    "                    directory=img_dir,\n",
    "                    x_col=\"file_name\",\n",
    "                    y_col=\"is_bird\",\n",
    "                    batch_size=batch_size,\n",
    "                    class_mode=\"binary\",    \n",
    "                    target_size=(img_height,img_width))"
   ]
  },
  {
   "cell_type": "code",
   "execution_count": null,
   "metadata": {},
   "outputs": [],
   "source": []
  },
  {
   "cell_type": "code",
   "execution_count": null,
   "metadata": {},
   "outputs": [],
   "source": []
  },
  {
   "cell_type": "markdown",
   "metadata": {},
   "source": [
    "### RESULTS & VISUALIZATIONS"
   ]
  },
  {
   "cell_type": "code",
   "execution_count": 25,
   "metadata": {},
   "outputs": [
    {
     "name": "stdout",
     "output_type": "stream",
     "text": [
      "Confusion Matrix\n",
      "[[129 172]\n",
      " [114 185]]\n",
      "Classification Report\n",
      "              precision    recall  f1-score   support\n",
      "\n",
      "    Not Bird       0.53      0.43      0.47       301\n",
      "        Bird       0.52      0.62      0.56       299\n",
      "\n",
      "    accuracy                           0.52       600\n",
      "   macro avg       0.52      0.52      0.52       600\n",
      "weighted avg       0.52      0.52      0.52       600\n",
      "\n",
      "CPU times: user 12.3 s, sys: 4.4 s, total: 16.7 s\n",
      "Wall time: 6.73 s\n"
     ]
    }
   ],
   "source": [
    "%%time\n",
    "\n",
    "# make predictions on model1\n",
    "y_pred = model1.predict_classes(test_generator)\n",
    "\n",
    "\n",
    "print('Confusion Matrix')\n",
    "print(confusion_matrix(test_generator.classes, y_pred))\n",
    "print('Classification Report')\n",
    "target_names = ['Not Bird', 'Bird']\n",
    "print(classification_report(test_generator.classes, y_pred, target_names=target_names))"
   ]
  },
  {
   "cell_type": "code",
   "execution_count": 2,
   "metadata": {},
   "outputs": [
    {
     "ename": "NameError",
     "evalue": "name 'plt' is not defined",
     "output_type": "error",
     "traceback": [
      "\u001b[0;31m---------------------------------------------------------------------------\u001b[0m",
      "\u001b[0;31mNameError\u001b[0m                                 Traceback (most recent call last)",
      "\u001b[0;32m<ipython-input-2-551adbced29c>\u001b[0m in \u001b[0;36m<module>\u001b[0;34m\u001b[0m\n\u001b[1;32m      2\u001b[0m \u001b[0;32mfrom\u001b[0m \u001b[0msklearn\u001b[0m\u001b[0;34m.\u001b[0m\u001b[0mmetrics\u001b[0m \u001b[0;32mimport\u001b[0m \u001b[0mauc\u001b[0m\u001b[0;34m\u001b[0m\u001b[0;34m\u001b[0m\u001b[0m\n\u001b[1;32m      3\u001b[0m \u001b[0;34m\u001b[0m\u001b[0m\n\u001b[0;32m----> 4\u001b[0;31m \u001b[0m_\u001b[0m \u001b[0;34m=\u001b[0m \u001b[0mplt\u001b[0m\u001b[0;34m.\u001b[0m\u001b[0mplot\u001b[0m\u001b[0;34m(\u001b[0m\u001b[0;34m[\u001b[0m\u001b[0;36m0\u001b[0m\u001b[0;34m,\u001b[0m \u001b[0;36m1\u001b[0m\u001b[0;34m]\u001b[0m\u001b[0;34m,\u001b[0m \u001b[0;34m[\u001b[0m\u001b[0;36m0\u001b[0m\u001b[0;34m,\u001b[0m \u001b[0;36m1\u001b[0m\u001b[0;34m]\u001b[0m\u001b[0;34m,\u001b[0m \u001b[0;34m'k--'\u001b[0m\u001b[0;34m)\u001b[0m\u001b[0;34m\u001b[0m\u001b[0;34m\u001b[0m\u001b[0m\n\u001b[0m\u001b[1;32m      5\u001b[0m \u001b[0mfpr_keras\u001b[0m\u001b[0;34m,\u001b[0m \u001b[0mtpr_keras\u001b[0m\u001b[0;34m,\u001b[0m \u001b[0mthresholds_keras\u001b[0m \u001b[0;34m=\u001b[0m \u001b[0mroc_curve\u001b[0m\u001b[0;34m(\u001b[0m\u001b[0mtest_generator\u001b[0m\u001b[0;34m.\u001b[0m\u001b[0mclasses\u001b[0m\u001b[0;34m,\u001b[0m \u001b[0my_pred\u001b[0m\u001b[0;34m)\u001b[0m\u001b[0;34m\u001b[0m\u001b[0;34m\u001b[0m\u001b[0m\n\u001b[1;32m      6\u001b[0m \u001b[0mauc_keras\u001b[0m \u001b[0;34m=\u001b[0m \u001b[0mauc\u001b[0m\u001b[0;34m(\u001b[0m\u001b[0mfpr_keras\u001b[0m\u001b[0;34m,\u001b[0m \u001b[0mtpr_keras\u001b[0m\u001b[0;34m)\u001b[0m\u001b[0;34m\u001b[0m\u001b[0;34m\u001b[0m\u001b[0m\n",
      "\u001b[0;31mNameError\u001b[0m: name 'plt' is not defined"
     ]
    }
   ],
   "source": [
    "from sklearn.metrics import roc_curve\n",
    "from sklearn.metrics import auc\n",
    "\n",
    "_ = plt.plot([0, 1], [0, 1], 'k--')\n",
    "fpr_keras, tpr_keras, thresholds_keras = roc_curve(test_generator.classes, y_pred)\n",
    "auc_keras = auc(fpr_keras, tpr_keras)\n",
    "\n",
    "_ = plt.plot(fpr_keras, tpr_keras, label='Keras (area = {:.3f})'.format(auc_keras))\n",
    "plt.xlabel('False positive rate')\n",
    "plt.ylabel('True positive rate')\n",
    "plt.title('ROC curve')\n",
    "plt.legend(loc='best')\n",
    "plt.show()"
   ]
  },
  {
   "cell_type": "markdown",
   "metadata": {},
   "source": [
    "----"
   ]
  },
  {
   "cell_type": "markdown",
   "metadata": {},
   "source": [
    "This model performs about as well as chance. "
   ]
  },
  {
   "cell_type": "code",
   "execution_count": null,
   "metadata": {},
   "outputs": [],
   "source": [
    "%load_ext watermark\n",
    "%watermark -a \"Lab 2.0\" -d -t -v -p numpy,pandas,tensorflow,keras"
   ]
  },
  {
   "cell_type": "code",
   "execution_count": null,
   "metadata": {},
   "outputs": [],
   "source": []
  }
 ],
 "metadata": {
  "kernelspec": {
   "display_name": "Python 3",
   "language": "python",
   "name": "python3"
  },
  "language_info": {
   "codemirror_mode": {
    "name": "ipython",
    "version": 3
   },
   "file_extension": ".py",
   "mimetype": "text/x-python",
   "name": "python",
   "nbconvert_exporter": "python",
   "pygments_lexer": "ipython3",
   "version": "3.7.6"
  }
 },
 "nbformat": 4,
 "nbformat_minor": 4
}
